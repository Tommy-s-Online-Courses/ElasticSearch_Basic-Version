{
 "cells": [
  {
   "cell_type": "markdown",
   "id": "4422372d",
   "metadata": {},
   "source": [
    "#### 案例1"
   ]
  },
  {
   "cell_type": "code",
   "execution_count": 1,
   "id": "f5599d47",
   "metadata": {},
   "outputs": [],
   "source": [
    "# 1. 连接ES\n",
    "\n",
    "from elasticsearch import Elasticsearch\n",
    "\n",
    "# 方法一：需要添加用户名和密码\n",
    "#es = Elasticsearch(\"http://localhost:9200\", basic_auth=('elastic', '_*eLYA3i7Atfm6GhO+2N'))\n",
    "\n",
    "# 方法二：无需添加\n",
    "es = Elasticsearch(\"http://localhost:9200\")"
   ]
  },
  {
   "cell_type": "code",
   "execution_count": 3,
   "id": "1dca80e0",
   "metadata": {},
   "outputs": [
    {
     "name": "stderr",
     "output_type": "stream",
     "text": [
      "/var/folders/f2/s10901_5219dbnccmr_04k3m0000gn/T/ipykernel_64408/2314276158.py:3: DeprecationWarning: Passing transport options in the API method is deprecated. Use 'Elasticsearch.options()' instead.\n",
      "  es.indices.create(index=\"py_index01\",ignore=400)\n"
     ]
    },
    {
     "data": {
      "text/plain": [
       "ObjectApiResponse({'acknowledged': True, 'shards_acknowledged': True, 'index': 'py_index01'})"
      ]
     },
     "execution_count": 3,
     "metadata": {},
     "output_type": "execute_result"
    }
   ],
   "source": [
    "# 2. 创建索引\n",
    "\n",
    "es.indices.create(index=\"py_index01\",ignore=400)"
   ]
  },
  {
   "cell_type": "code",
   "execution_count": 4,
   "id": "671a4402",
   "metadata": {},
   "outputs": [
    {
     "name": "stderr",
     "output_type": "stream",
     "text": [
      "/var/folders/f2/s10901_5219dbnccmr_04k3m0000gn/T/ipykernel_64408/3342436506.py:11: DeprecationWarning: The 'body' parameter is deprecated and will be removed in a future version. Instead use the 'document' parameter. See https://github.com/elastic/elasticsearch-py/issues/1698 for more information\n",
      "  es.index(index=\"py_index01\", id=1, body=body)\n"
     ]
    },
    {
     "data": {
      "text/plain": [
       "ObjectApiResponse({'_index': 'py_index01', '_id': '1', '_version': 1, 'result': 'created', '_shards': {'total': 2, 'successful': 1, 'failed': 0}, '_seq_no': 0, '_primary_term': 1})"
      ]
     },
     "execution_count": 4,
     "metadata": {},
     "output_type": "execute_result"
    }
   ],
   "source": [
    "# 3. 插入数据\n",
    "\n",
    "# 第1条数据\n",
    "\n",
    "body = {\n",
    "    \"name\": \"tommy\",\n",
    "    \"age\": 20,\n",
    "    \"city\": \"shenzhen\",\n",
    "    \"hobbies\":\"singing,dancing,reading\"\n",
    "}\n",
    "es.index(index=\"py_index01\", id=1, body=body)"
   ]
  },
  {
   "cell_type": "code",
   "execution_count": 5,
   "id": "6b6f7012",
   "metadata": {},
   "outputs": [
    {
     "name": "stderr",
     "output_type": "stream",
     "text": [
      "/var/folders/f2/s10901_5219dbnccmr_04k3m0000gn/T/ipykernel_64408/951639852.py:10: DeprecationWarning: The 'body' parameter is deprecated and will be removed in a future version. Instead use the 'document' parameter. See https://github.com/elastic/elasticsearch-py/issues/1698 for more information\n",
      "  es.index(index=\"py_index01\", id=2, body=body)\n"
     ]
    },
    {
     "data": {
      "text/plain": [
       "ObjectApiResponse({'_index': 'py_index01', '_id': '2', '_version': 1, 'result': 'created', '_shards': {'total': 2, 'successful': 1, 'failed': 0}, '_seq_no': 1, '_primary_term': 1})"
      ]
     },
     "execution_count": 5,
     "metadata": {},
     "output_type": "execute_result"
    }
   ],
   "source": [
    "# 第2条数据\n",
    "\n",
    "body = {\n",
    "    \"name\": \"sally\",\n",
    "    \"age\": 21,\n",
    "    \"city\": \"shenzhen\",\n",
    "    \"hobbies\": \"jogging,watching,running\"\n",
    "}\n",
    "\n",
    "es.index(index=\"py_index01\", id=2, body=body)"
   ]
  },
  {
   "cell_type": "code",
   "execution_count": 6,
   "id": "59a802be",
   "metadata": {},
   "outputs": [
    {
     "name": "stderr",
     "output_type": "stream",
     "text": [
      "/var/folders/f2/s10901_5219dbnccmr_04k3m0000gn/T/ipykernel_64408/1616854928.py:10: DeprecationWarning: The 'body' parameter is deprecated and will be removed in a future version. Instead use the 'document' parameter. See https://github.com/elastic/elasticsearch-py/issues/1698 for more information\n",
      "  es.index(index=\"py_index01\", id=3, body=body)\n"
     ]
    },
    {
     "data": {
      "text/plain": [
       "ObjectApiResponse({'_index': 'py_index01', '_id': '3', '_version': 1, 'result': 'created', '_shards': {'total': 2, 'successful': 1, 'failed': 0}, '_seq_no': 2, '_primary_term': 1})"
      ]
     },
     "execution_count": 6,
     "metadata": {},
     "output_type": "execute_result"
    }
   ],
   "source": [
    "# 第3条数据\n",
    "\n",
    "body = {\n",
    "    \"name\" : \"john\",\n",
    "    \"age\": 22,\n",
    "    \"city\": \"beijing\",\n",
    "    \"hobbies\": \"liking,biking,jumping\"\n",
    "}\n",
    "\n",
    "es.index(index=\"py_index01\", id=3, body=body)"
   ]
  },
  {
   "cell_type": "code",
   "execution_count": 7,
   "id": "df52c90a",
   "metadata": {},
   "outputs": [
    {
     "name": "stderr",
     "output_type": "stream",
     "text": [
      "/var/folders/f2/s10901_5219dbnccmr_04k3m0000gn/T/ipykernel_64408/2403955306.py:9: DeprecationWarning: The 'body' parameter is deprecated and will be removed in a future version. Instead use individual parameters.\n",
      "  result = es.search(index=\"py_index01\", body=query)\n"
     ]
    },
    {
     "name": "stdout",
     "output_type": "stream",
     "text": [
      "{'took': 654, 'timed_out': False, '_shards': {'total': 1, 'successful': 1, 'skipped': 0, 'failed': 0}, 'hits': {'total': {'value': 3, 'relation': 'eq'}, 'max_score': 1.0, 'hits': [{'_index': 'py_index01', '_id': '1', '_score': 1.0, '_source': {'name': 'tommy', 'age': 20, 'city': 'shenzhen', 'hobbies': 'singing,dancing,reading'}}, {'_index': 'py_index01', '_id': '2', '_score': 1.0, '_source': {'name': 'sally', 'age': 21, 'city': 'shenzhen', 'hobbies': 'jogging,watching,running'}}, {'_index': 'py_index01', '_id': '3', '_score': 1.0, '_source': {'name': 'john', 'age': 22, 'city': 'beijing', 'hobbies': 'liking,biking,jumping'}}]}}\n"
     ]
    }
   ],
   "source": [
    "# 4. match_all 查询所有\n",
    "\n",
    "query = {\n",
    "    \"query\": {\n",
    "        \"match_all\": {}\n",
    "    }\n",
    "}\n",
    "\n",
    "result = es.search(index=\"py_index01\", body=query)\n",
    "\n",
    "print(result)"
   ]
  },
  {
   "cell_type": "code",
   "execution_count": 8,
   "id": "2d300b2b",
   "metadata": {},
   "outputs": [
    {
     "name": "stdout",
     "output_type": "stream",
     "text": [
      "{'took': 5, 'timed_out': False, '_shards': {'total': 1, 'successful': 1, 'skipped': 0, 'failed': 0}, 'hits': {'total': {'value': 1, 'relation': 'eq'}, 'max_score': 1.0, 'hits': [{'_index': 'py_index01', '_id': '2', '_score': 1.0, '_source': {'name': 'sally', 'age': 21, 'city': 'shenzhen', 'hobbies': 'jogging,watching,running'}}]}}\n"
     ]
    },
    {
     "name": "stderr",
     "output_type": "stream",
     "text": [
      "/var/folders/f2/s10901_5219dbnccmr_04k3m0000gn/T/ipykernel_64408/2468781478.py:12: DeprecationWarning: The 'body' parameter is deprecated and will be removed in a future version. Instead use individual parameters.\n",
      "  result = es.search(index=\"py_index01\", body=query)\n"
     ]
    }
   ],
   "source": [
    "# 5. 根据 term 查询\n",
    "\n",
    "# term主要用于精确匹配哪些值，比如数字，日期，布尔值或 not_analyzed 的字符串(未经切词的文本数据类型)\n",
    "query = {\n",
    "    \"query\": {\n",
    "        \"term\": {\n",
    "            \"age\":21\n",
    "        }\n",
    "    }\n",
    "}\n",
    "\n",
    "result = es.search(index=\"py_index01\", body=query)\n",
    "\n",
    "print(result)"
   ]
  },
  {
   "cell_type": "code",
   "execution_count": 9,
   "id": "3be6ef77",
   "metadata": {},
   "outputs": [
    {
     "name": "stdout",
     "output_type": "stream",
     "text": [
      "{'took': 31, 'timed_out': False, '_shards': {'total': 1, 'successful': 1, 'skipped': 0, 'failed': 0}, 'hits': {'total': {'value': 2, 'relation': 'eq'}, 'max_score': 1.0, 'hits': [{'_index': 'py_index01', '_id': '1', '_score': 1.0, '_source': {'name': 'tommy', 'age': 20, 'city': 'shenzhen', 'hobbies': 'singing,dancing,reading'}}, {'_index': 'py_index01', '_id': '2', '_score': 1.0, '_source': {'name': 'sally', 'age': 21, 'city': 'shenzhen', 'hobbies': 'jogging,watching,running'}}]}}\n"
     ]
    },
    {
     "name": "stderr",
     "output_type": "stream",
     "text": [
      "/var/folders/f2/s10901_5219dbnccmr_04k3m0000gn/T/ipykernel_64408/1859583014.py:14: DeprecationWarning: The 'body' parameter is deprecated and will be removed in a future version. Instead use individual parameters.\n",
      "  result = es.search(index=\"py_index01\", body=query)\n"
     ]
    }
   ],
   "source": [
    "# 6. 根据 terms 查询\n",
    "\n",
    "# terms 跟 term 有点类似，但 terms 允许指定多个匹配条件。 如果某个字段指定了多个值，那么文档需要一起去做匹配\n",
    "\n",
    "# ① 根据age\n",
    "query = {\n",
    "    \"query\": {\n",
    "        \"terms\": {\n",
    "            \"age\": [20, 21]\n",
    "        }\n",
    "    }\n",
    "}\n",
    "\n",
    "result = es.search(index=\"py_index01\", body=query)\n",
    "\n",
    "print(result)"
   ]
  },
  {
   "cell_type": "code",
   "execution_count": 10,
   "id": "c935f90b",
   "metadata": {},
   "outputs": [
    {
     "name": "stdout",
     "output_type": "stream",
     "text": [
      "{'took': 10, 'timed_out': False, '_shards': {'total': 1, 'successful': 1, 'skipped': 0, 'failed': 0}, 'hits': {'total': {'value': 2, 'relation': 'eq'}, 'max_score': 1.0, 'hits': [{'_index': 'py_index01', '_id': '1', '_score': 1.0, '_source': {'name': 'tommy', 'age': 20, 'city': 'shenzhen', 'hobbies': 'singing,dancing,reading'}}, {'_index': 'py_index01', '_id': '2', '_score': 1.0, '_source': {'name': 'sally', 'age': 21, 'city': 'shenzhen', 'hobbies': 'jogging,watching,running'}}]}}\n"
     ]
    },
    {
     "name": "stderr",
     "output_type": "stream",
     "text": [
      "/var/folders/f2/s10901_5219dbnccmr_04k3m0000gn/T/ipykernel_64408/1029294199.py:10: DeprecationWarning: The 'body' parameter is deprecated and will be removed in a future version. Instead use individual parameters.\n",
      "  result = es.search(index=\"py_index01\", body=query)\n"
     ]
    }
   ],
   "source": [
    "# ② 根据name\n",
    "query = {\n",
    "    \"query\": {\n",
    "        \"terms\": {\n",
    "            \"name\": [\"tommy\", \"sally\"]\n",
    "        }\n",
    "    }\n",
    "}\n",
    "\n",
    "result = es.search(index=\"py_index01\", body=query)\n",
    "\n",
    "print(result)"
   ]
  },
  {
   "cell_type": "code",
   "execution_count": 11,
   "id": "a2ddade8",
   "metadata": {},
   "outputs": [
    {
     "name": "stdout",
     "output_type": "stream",
     "text": [
      "{'took': 2, 'timed_out': False, '_shards': {'total': 1, 'successful': 1, 'skipped': 0, 'failed': 0}, 'hits': {'total': {'value': 2, 'relation': 'eq'}, 'max_score': 1.0, 'hits': [{'_index': 'py_index01', '_id': '2', '_score': 1.0, '_source': {'name': 'sally', 'age': 21, 'city': 'shenzhen', 'hobbies': 'jogging,watching,running'}}, {'_index': 'py_index01', '_id': '3', '_score': 1.0, '_source': {'name': 'john', 'age': 22, 'city': 'beijing', 'hobbies': 'liking,biking,jumping'}}]}}\n"
     ]
    },
    {
     "name": "stderr",
     "output_type": "stream",
     "text": [
      "/var/folders/f2/s10901_5219dbnccmr_04k3m0000gn/T/ipykernel_64408/189850530.py:20: DeprecationWarning: The 'body' parameter is deprecated and will be removed in a future version. Instead use individual parameters.\n",
      "  result = es.search(index=\"py_index01\", body=query)\n"
     ]
    }
   ],
   "source": [
    "# 7. range\n",
    "\n",
    "# 按照指定范围查找一批数据:\n",
    "'''\n",
    "gt : 大于\n",
    "gte : 大于等于\n",
    "lt : 小于\n",
    "lte : 小于等于\n",
    "'''\n",
    "query = {\n",
    "    \"query\":{\n",
    "        \"range\":{\n",
    "            \"age\": {\n",
    "                \"gt\": 20\n",
    "            }\n",
    "        }\n",
    "    }\n",
    "}\n",
    "\n",
    "result = es.search(index=\"py_index01\", body=query)\n",
    "\n",
    "print(result)"
   ]
  },
  {
   "cell_type": "code",
   "execution_count": 12,
   "id": "de3162e0",
   "metadata": {},
   "outputs": [
    {
     "name": "stdout",
     "output_type": "stream",
     "text": [
      "{'took': 8, 'timed_out': False, '_shards': {'total': 1, 'successful': 1, 'skipped': 0, 'failed': 0}, 'hits': {'total': {'value': 3, 'relation': 'eq'}, 'max_score': 1.0, 'hits': [{'_index': 'py_index01', '_id': '1', '_score': 1.0, '_source': {'name': 'tommy', 'age': 20, 'city': 'shenzhen', 'hobbies': 'singing,dancing,reading'}}, {'_index': 'py_index01', '_id': '2', '_score': 1.0, '_source': {'name': 'sally', 'age': 21, 'city': 'shenzhen', 'hobbies': 'jogging,watching,running'}}, {'_index': 'py_index01', '_id': '3', '_score': 1.0, '_source': {'name': 'john', 'age': 22, 'city': 'beijing', 'hobbies': 'liking,biking,jumping'}}]}}\n"
     ]
    },
    {
     "name": "stderr",
     "output_type": "stream",
     "text": [
      "/var/folders/f2/s10901_5219dbnccmr_04k3m0000gn/T/ipykernel_64408/1577951642.py:13: DeprecationWarning: The 'body' parameter is deprecated and will be removed in a future version. Instead use individual parameters.\n",
      "  result = es.search(index=\"py_index01\", body=query)\n"
     ]
    }
   ],
   "source": [
    "# 8. exists / missing\n",
    "\n",
    "# 查找文档中是否包含指定字段或没有某个字段，类似于SQL语句中的IS_NULL条件\n",
    "\n",
    "query = {\n",
    "    \"query\": {\n",
    "        \"exists\": {\n",
    "            \"field\": \"name\"\n",
    "        }\n",
    "    }\n",
    "}\n",
    "\n",
    "result = es.search(index=\"py_index01\", body=query)\n",
    "\n",
    "print(result)"
   ]
  },
  {
   "cell_type": "code",
   "execution_count": null,
   "id": "d5072ec0",
   "metadata": {},
   "outputs": [],
   "source": [
    "# 9. bool过滤\n",
    "\n",
    "# 合并多个过滤条件查询结果的布尔逻辑\n",
    "'''\n",
    "must :: 多个查询条件的完全匹配,相当于 and。\n",
    "must_not :: 多个查询条件的相反匹配，相当于 not。\n",
    "should :: 至少有一个查询条件匹配, 相当于 or。\n",
    "'''\n",
    "\n",
    "# 案例1\n",
    "query = {\n",
    "    \"query\": {\n",
    "        \"bool\": {\n",
    "            \"must\": {\n",
    "                \"term\": {\"name\": \"sally\"},\n",
    "                \"term\": {\"age\": 21}\n",
    "            }\n",
    "        }\n",
    "    }\n",
    "}\n",
    "\n",
    "result = es.search(index=\"py_index01\", body=query)\n",
    "\n",
    "print(result)"
   ]
  },
  {
   "cell_type": "code",
   "execution_count": 13,
   "id": "2144855f",
   "metadata": {},
   "outputs": [
    {
     "name": "stdout",
     "output_type": "stream",
     "text": [
      "{'took': 7, 'timed_out': False, '_shards': {'total': 1, 'successful': 1, 'skipped': 0, 'failed': 0}, 'hits': {'total': {'value': 0, 'relation': 'eq'}, 'max_score': None, 'hits': []}}\n"
     ]
    },
    {
     "name": "stderr",
     "output_type": "stream",
     "text": [
      "/var/folders/f2/s10901_5219dbnccmr_04k3m0000gn/T/ipykernel_64408/4270023570.py:29: DeprecationWarning: The 'body' parameter is deprecated and will be removed in a future version. Instead use individual parameters.\n",
      "  result = es.search(index=\"py_index01\", body=query)\n"
     ]
    }
   ],
   "source": [
    "# 案例2\n",
    "'''\n",
    "条件1：name != sally\n",
    "条件2：字段age必须存在\n",
    "条件3：age = 21\n",
    "'''\n",
    "query = {\n",
    "    \"query\": {\n",
    "        \"bool\": {\n",
    "            \"must_not\": {\n",
    "                \"term\": {\n",
    "                    \"name\": \"sally\"\n",
    "                }\n",
    "            },\n",
    "            \"must\": {\n",
    "                \"exists\": {\n",
    "                    \"field\": \"age\"\n",
    "                }\n",
    "            },\n",
    "            \"must\": {\n",
    "                \"term\": {\n",
    "                    \"age\": 21\n",
    "                }\n",
    "            }\n",
    "        }\n",
    "    }\n",
    "}\n",
    "\n",
    "result = es.search(index=\"py_index01\", body=query)\n",
    "\n",
    "print(result)"
   ]
  },
  {
   "cell_type": "code",
   "execution_count": 14,
   "id": "6ab35079",
   "metadata": {},
   "outputs": [
    {
     "name": "stdout",
     "output_type": "stream",
     "text": [
      "{'took': 1, 'timed_out': False, '_shards': {'total': 1, 'successful': 1, 'skipped': 0, 'failed': 0}, 'hits': {'total': {'value': 3, 'relation': 'eq'}, 'max_score': 1.0, 'hits': [{'_index': 'py_index01', '_id': '1', '_score': 1.0, '_source': {'name': 'tommy', 'age': 20, 'city': 'shenzhen', 'hobbies': 'singing,dancing,reading'}}, {'_index': 'py_index01', '_id': '2', '_score': 1.0, '_source': {'name': 'sally', 'age': 21, 'city': 'shenzhen', 'hobbies': 'jogging,watching,running'}}, {'_index': 'py_index01', '_id': '3', '_score': 1.0, '_source': {'name': 'john', 'age': 22, 'city': 'beijing', 'hobbies': 'liking,biking,jumping'}}]}}\n"
     ]
    },
    {
     "name": "stderr",
     "output_type": "stream",
     "text": [
      "/var/folders/f2/s10901_5219dbnccmr_04k3m0000gn/T/ipykernel_64408/119737820.py:25: DeprecationWarning: The 'body' parameter is deprecated and will be removed in a future version. Instead use individual parameters.\n",
      "  result = es.search(index=\"py_index01\", body=query)\n"
     ]
    }
   ],
   "source": [
    "# 10. bool 查询\n",
    "\n",
    "'''\n",
    "① 与 bool 过滤相似，用于合并多个查询子句。\n",
    "② 不同的是，bool 过滤可以直接给出是否匹配成功， 而bool查询要计算每一个查询子句的 _score （相关性分值）\n",
    "'''\n",
    "\n",
    "query = {\n",
    "    \"query\": {\n",
    "        \"bool\": {\n",
    "            \"must\": {\n",
    "                \"match\": {\n",
    "                    \"hobbies\": \"reading\"\n",
    "                }\n",
    "            },\n",
    "            \"must\": {\n",
    "                \"exists\": {\n",
    "                    \"field\": \"hobbies\"\n",
    "                }\n",
    "            }\n",
    "        }\n",
    "    }\n",
    "}\n",
    "\n",
    "result = es.search(index=\"py_index01\", body=query)\n",
    "\n",
    "print(result)"
   ]
  },
  {
   "cell_type": "code",
   "execution_count": 15,
   "id": "5753ca75",
   "metadata": {},
   "outputs": [
    {
     "name": "stdout",
     "output_type": "stream",
     "text": [
      "{'took': 106, 'timed_out': False, '_shards': {'total': 1, 'successful': 1, 'skipped': 0, 'failed': 0}, 'hits': {'total': {'value': 1, 'relation': 'eq'}, 'max_score': 0.9808291, 'hits': [{'_index': 'py_index01', '_id': '3', '_score': 0.9808291, '_source': {'name': 'john', 'age': 22, 'city': 'beijing', 'hobbies': 'liking,biking,jumping'}}]}}\n"
     ]
    },
    {
     "name": "stderr",
     "output_type": "stream",
     "text": [
      "/var/folders/f2/s10901_5219dbnccmr_04k3m0000gn/T/ipykernel_64408/2395613155.py:13: DeprecationWarning: The 'body' parameter is deprecated and will be removed in a future version. Instead use individual parameters.\n",
      "  result = es.search(index=\"py_index01\", body=query)\n"
     ]
    }
   ],
   "source": [
    "# 11. multi_match\n",
    "\n",
    "# match查询的基础上同时搜索多个字段，在多个字段中同时查一个\n",
    "query = {\n",
    "    \"query\": {\n",
    "        \"multi_match\": {\n",
    "            \"query\": \"jumping\",\n",
    "            \"fields\": [\"name\",\"hobbies\"]\n",
    "        }\n",
    "    }\n",
    "}\n",
    "\n",
    "result = es.search(index=\"py_index01\", body=query)\n",
    "\n",
    "print(result)"
   ]
  },
  {
   "cell_type": "code",
   "execution_count": 16,
   "id": "29bbef13",
   "metadata": {},
   "outputs": [
    {
     "name": "stdout",
     "output_type": "stream",
     "text": [
      "{'took': 66, 'timed_out': False, '_shards': {'total': 1, 'successful': 1, 'skipped': 0, 'failed': 0}, 'hits': {'total': {'value': 1, 'relation': 'eq'}, 'max_score': 1.0, 'hits': [{'_index': 'py_index01', '_id': '1', '_score': 1.0, '_source': {'name': 'tommy', 'age': 20, 'city': 'shenzhen', 'hobbies': 'singing,dancing,reading'}}]}}\n"
     ]
    },
    {
     "name": "stderr",
     "output_type": "stream",
     "text": [
      "/var/folders/f2/s10901_5219dbnccmr_04k3m0000gn/T/ipykernel_64408/3624108677.py:12: DeprecationWarning: The 'body' parameter is deprecated and will be removed in a future version. Instead use individual parameters.\n",
      "  result = es.search(index=\"py_index01\", body=query)\n"
     ]
    }
   ],
   "source": [
    "# 12. wildcard查询\n",
    "\n",
    "# 使用标准的shell通配符查询\n",
    "query = {\n",
    "    \"query\": {\n",
    "        \"wildcard\": {\n",
    "            \"name\": \"to*\"\n",
    "        }\n",
    "    }\n",
    "}\n",
    "\n",
    "result = es.search(index=\"py_index01\", body=query)\n",
    "\n",
    "print(result)"
   ]
  },
  {
   "cell_type": "code",
   "execution_count": 17,
   "id": "f64afb98",
   "metadata": {},
   "outputs": [
    {
     "name": "stdout",
     "output_type": "stream",
     "text": [
      "{'took': 19, 'timed_out': False, '_shards': {'total': 1, 'successful': 1, 'skipped': 0, 'failed': 0}, 'hits': {'total': {'value': 2, 'relation': 'eq'}, 'max_score': 1.0, 'hits': [{'_index': 'py_index01', '_id': '1', '_score': 1.0, '_source': {'name': 'tommy', 'age': 20, 'city': 'shenzhen', 'hobbies': 'singing,dancing,reading'}}, {'_index': 'py_index01', '_id': '2', '_score': 1.0, '_source': {'name': 'sally', 'age': 21, 'city': 'shenzhen', 'hobbies': 'jogging,watching,running'}}]}}\n"
     ]
    },
    {
     "name": "stderr",
     "output_type": "stream",
     "text": [
      "/var/folders/f2/s10901_5219dbnccmr_04k3m0000gn/T/ipykernel_64408/2251603179.py:11: DeprecationWarning: The 'body' parameter is deprecated and will be removed in a future version. Instead use individual parameters.\n",
      "  result = es.search(index=\"py_index01\", body=query)\n"
     ]
    }
   ],
   "source": [
    "# 13. regexp 查询\n",
    "\n",
    "query = {\n",
    "    \"query\": {\n",
    "        \"regexp\": {\n",
    "            \"city\": \".he.*\"\n",
    "        }\n",
    "    }\n",
    "}\n",
    "\n",
    "result = es.search(index=\"py_index01\", body=query)\n",
    "\n",
    "print(result)"
   ]
  },
  {
   "cell_type": "code",
   "execution_count": 18,
   "id": "4012e90f",
   "metadata": {},
   "outputs": [
    {
     "name": "stdout",
     "output_type": "stream",
     "text": [
      "{'took': 5, 'timed_out': False, '_shards': {'total': 1, 'successful': 1, 'skipped': 0, 'failed': 0}, 'hits': {'total': {'value': 1, 'relation': 'eq'}, 'max_score': 1.0, 'hits': [{'_index': 'py_index01', '_id': '3', '_score': 1.0, '_source': {'name': 'john', 'age': 22, 'city': 'beijing', 'hobbies': 'liking,biking,jumping'}}]}}\n"
     ]
    },
    {
     "name": "stderr",
     "output_type": "stream",
     "text": [
      "/var/folders/f2/s10901_5219dbnccmr_04k3m0000gn/T/ipykernel_64408/302057038.py:13: DeprecationWarning: The 'body' parameter is deprecated and will be removed in a future version. Instead use individual parameters.\n",
      "  result = es.search(index=\"py_index01\", body=query)\n"
     ]
    }
   ],
   "source": [
    "# 14. prefix 查询\n",
    "\n",
    "# 以什么字符开头\n",
    "\n",
    "query = {\n",
    "    \"query\": {\n",
    "        \"prefix\": {\n",
    "            \"city\": \"bei\"\n",
    "        }\n",
    "    }\n",
    "}\n",
    "\n",
    "result = es.search(index=\"py_index01\", body=query)\n",
    "\n",
    "print(result)"
   ]
  },
  {
   "cell_type": "code",
   "execution_count": 19,
   "id": "d6284bb3",
   "metadata": {},
   "outputs": [
    {
     "name": "stdout",
     "output_type": "stream",
     "text": [
      "{'took': 2, 'timed_out': False, '_shards': {'total': 1, 'successful': 1, 'skipped': 0, 'failed': 0}, 'hits': {'total': {'value': 1, 'relation': 'eq'}, 'max_score': 0.9808291, 'hits': [{'_index': 'py_index01', '_id': '1', '_score': 0.9808291, '_source': {'name': 'tommy', 'age': 20, 'city': 'shenzhen', 'hobbies': 'singing,dancing,reading'}}]}}\n"
     ]
    },
    {
     "name": "stderr",
     "output_type": "stream",
     "text": [
      "/var/folders/f2/s10901_5219dbnccmr_04k3m0000gn/T/ipykernel_64408/1159771038.py:12: DeprecationWarning: The 'body' parameter is deprecated and will be removed in a future version. Instead use individual parameters.\n",
      "  result = es.search(index=\"py_index01\", body=query)\n"
     ]
    }
   ],
   "source": [
    "# 15. phrase match 短语匹配\n",
    "\n",
    "# 寻找临近的几个单词\n",
    "query = {\n",
    "    \"query\": {\n",
    "        \"match_phrase\": {\n",
    "            \"hobbies\": \"dancing\"\n",
    "        }\n",
    "    }\n",
    "}\n",
    "\n",
    "result = es.search(index=\"py_index01\", body=query)\n",
    "\n",
    "print(result)"
   ]
  },
  {
   "cell_type": "code",
   "execution_count": 20,
   "id": "4f9df7d3",
   "metadata": {},
   "outputs": [
    {
     "data": {
      "text/plain": [
       "ObjectApiResponse({'_index': 'py_index01', '_id': '1', '_version': 2, 'result': 'deleted', '_shards': {'total': 2, 'successful': 1, 'failed': 0}, '_seq_no': 3, '_primary_term': 1})"
      ]
     },
     "execution_count": 20,
     "metadata": {},
     "output_type": "execute_result"
    }
   ],
   "source": [
    "# 16. 根据id删除数据\n",
    "\n",
    "es.delete(index=\"py_index01\", id=1)"
   ]
  },
  {
   "cell_type": "code",
   "execution_count": 21,
   "id": "9bf641df",
   "metadata": {},
   "outputs": [
    {
     "name": "stdout",
     "output_type": "stream",
     "text": [
      "{'took': 23, 'timed_out': False, 'total': 1, 'deleted': 1, 'batches': 1, 'version_conflicts': 0, 'noops': 0, 'retries': {'bulk': 0, 'search': 0}, 'throttled_millis': 0, 'requests_per_second': -1.0, 'throttled_until_millis': 0, 'failures': []}\n"
     ]
    },
    {
     "name": "stderr",
     "output_type": "stream",
     "text": [
      "/var/folders/f2/s10901_5219dbnccmr_04k3m0000gn/T/ipykernel_64408/2585383237.py:13: DeprecationWarning: The 'body' parameter is deprecated and will be removed in a future version. Instead use individual parameters.\n",
      "  result =es.delete_by_query(index=\"py_index01\", body=query)\n"
     ]
    }
   ],
   "source": [
    "# 17. delete_by_query \n",
    "\n",
    "# 删除满足条件的所有数据，查询条件必须符合DLS格式\n",
    "\n",
    "query = {\n",
    "    \"query\": {\n",
    "        \"match\": {\n",
    "            \"name\": \"sally\"\n",
    "        }\n",
    "    }\n",
    "}\n",
    "\n",
    "result =es.delete_by_query(index=\"py_index01\", body=query)\n",
    "\n",
    "print(result)"
   ]
  },
  {
   "cell_type": "code",
   "execution_count": 22,
   "id": "ac46602a",
   "metadata": {},
   "outputs": [
    {
     "data": {
      "text/plain": [
       "ObjectApiResponse({'acknowledged': True})"
      ]
     },
     "execution_count": 22,
     "metadata": {},
     "output_type": "execute_result"
    }
   ],
   "source": [
    "# 18. 删除索引\n",
    "\n",
    "es.indices.delete(index=\"py_index01\")"
   ]
  },
  {
   "cell_type": "code",
   "execution_count": 23,
   "id": "78a3b4c2",
   "metadata": {},
   "outputs": [
    {
     "data": {
      "text/plain": [
       "HeadApiResponse(False)"
      ]
     },
     "execution_count": 23,
     "metadata": {},
     "output_type": "execute_result"
    }
   ],
   "source": [
    "# 19. 检查索引是否存在\n",
    "\n",
    "es.indices.exists(index=\"py_index01\")"
   ]
  },
  {
   "cell_type": "code",
   "execution_count": null,
   "id": "4a1405f6",
   "metadata": {},
   "outputs": [],
   "source": []
  }
 ],
 "metadata": {
  "kernelspec": {
   "display_name": "Python 3 (ipykernel)",
   "language": "python",
   "name": "python3"
  },
  "language_info": {
   "codemirror_mode": {
    "name": "ipython",
    "version": 3
   },
   "file_extension": ".py",
   "mimetype": "text/x-python",
   "name": "python",
   "nbconvert_exporter": "python",
   "pygments_lexer": "ipython3",
   "version": "3.9.7"
  }
 },
 "nbformat": 4,
 "nbformat_minor": 5
}

{
 "cells": [
  {
   "cell_type": "code",
   "execution_count": 1,
   "id": "01a2ccab",
   "metadata": {},
   "outputs": [],
   "source": [
    "from elasticsearch import Elasticsearch"
   ]
  },
  {
   "cell_type": "code",
   "execution_count": 2,
   "id": "08a5be92",
   "metadata": {},
   "outputs": [],
   "source": [
    "es = Elasticsearch(\"http://localhost:9200\")"
   ]
  },
  {
   "cell_type": "code",
   "execution_count": 3,
   "id": "c33ac3c2",
   "metadata": {},
   "outputs": [
    {
     "name": "stderr",
     "output_type": "stream",
     "text": [
      "/var/folders/f2/s10901_5219dbnccmr_04k3m0000gn/T/ipykernel_64863/1868941633.py:3: DeprecationWarning: Passing transport options in the API method is deprecated. Use 'Elasticsearch.options()' instead.\n",
      "  es.indices.delete(index=\"vector_index\", ignore=404)\n"
     ]
    },
    {
     "data": {
      "text/plain": [
       "ObjectApiResponse({'acknowledged': True})"
      ]
     },
     "execution_count": 3,
     "metadata": {},
     "output_type": "execute_result"
    }
   ],
   "source": [
    "# 删除索引\n",
    "\n",
    "es.indices.delete(index=\"vector_index\", ignore=404) "
   ]
  },
  {
   "cell_type": "code",
   "execution_count": 4,
   "id": "03e9525e",
   "metadata": {},
   "outputs": [],
   "source": [
    "# 1 定义索引结构\n",
    "\n",
    "body = {\n",
    "    \"mappings\":{\n",
    "        \"properties\":{\n",
    "            \"name\":{\n",
    "                \"type\":\"text\"\n",
    "            },\n",
    "            \"embedding\":{\n",
    "                \"type\":\"dense_vector\",\n",
    "                \"dims\": 3\n",
    "            }\n",
    "        }\n",
    "    }\n",
    "}"
   ]
  },
  {
   "cell_type": "code",
   "execution_count": 5,
   "id": "284761e9",
   "metadata": {},
   "outputs": [
    {
     "name": "stderr",
     "output_type": "stream",
     "text": [
      "/var/folders/f2/s10901_5219dbnccmr_04k3m0000gn/T/ipykernel_64863/4173687513.py:3: DeprecationWarning: The 'body' parameter is deprecated and will be removed in a future version. Instead use individual parameters.\n",
      "  es.indices.create(index=\"vector_index\",body=body)\n"
     ]
    },
    {
     "data": {
      "text/plain": [
       "ObjectApiResponse({'acknowledged': True, 'shards_acknowledged': True, 'index': 'vector_index'})"
      ]
     },
     "execution_count": 5,
     "metadata": {},
     "output_type": "execute_result"
    }
   ],
   "source": [
    "# 2 创建索引\n",
    "\n",
    "es.indices.create(index=\"vector_index\",body=body)"
   ]
  },
  {
   "cell_type": "code",
   "execution_count": 6,
   "id": "4599411d",
   "metadata": {},
   "outputs": [
    {
     "data": {
      "text/plain": [
       "(3, [])"
      ]
     },
     "execution_count": 6,
     "metadata": {},
     "output_type": "execute_result"
    }
   ],
   "source": [
    "# 3 批量插入数据\n",
    "from elasticsearch import helpers\n",
    "\n",
    "actions = [\n",
    "    {\"_index\":\"vector_index\",\n",
    "     \"_source\":{\"name\":\"苹果\",\n",
    "                \"embedding\":[0.2,0.1,0.4]}},\n",
    "    {\"_index\":\"vector_index\",\n",
    "     \"_source\":{\"name\":\"小船\",\n",
    "                \"embedding\":[0.7,0.2,0.6]}},\n",
    "    {\"_index\":\"vector_index\",\n",
    "     \"_source\":{\"name\":\"香蕉\",\n",
    "                \"embedding\":[0.3,0.1,0.3]}}\n",
    "]\n",
    "\n",
    "helpers.bulk(es, actions)"
   ]
  },
  {
   "cell_type": "code",
   "execution_count": 7,
   "id": "f5e5dbfd",
   "metadata": {},
   "outputs": [
    {
     "name": "stderr",
     "output_type": "stream",
     "text": [
      "/var/folders/f2/s10901_5219dbnccmr_04k3m0000gn/T/ipykernel_64863/1862223120.py:3: DeprecationWarning: The 'body' parameter is deprecated and will be removed in a future version. Instead use individual parameters.\n",
      "  result = es.search(index=\"vector_index\", body={\"query\":{\"match_all\":{}}})\n"
     ]
    },
    {
     "data": {
      "text/plain": [
       "ObjectApiResponse({'took': 1, 'timed_out': False, '_shards': {'total': 1, 'successful': 1, 'skipped': 0, 'failed': 0}, 'hits': {'total': {'value': 3, 'relation': 'eq'}, 'max_score': 1.0, 'hits': [{'_index': 'vector_index', '_id': 'W1L6GIAB8jcpMxT8Cr4k', '_score': 1.0, '_source': {'name': '苹果', 'embedding': [0.2, 0.1, 0.4]}}, {'_index': 'vector_index', '_id': 'XFL6GIAB8jcpMxT8Cr4k', '_score': 1.0, '_source': {'name': '小船', 'embedding': [0.7, 0.2, 0.6]}}, {'_index': 'vector_index', '_id': 'XVL6GIAB8jcpMxT8Cr4k', '_score': 1.0, '_source': {'name': '香蕉', 'embedding': [0.3, 0.1, 0.3]}}]}})"
      ]
     },
     "execution_count": 7,
     "metadata": {},
     "output_type": "execute_result"
    }
   ],
   "source": [
    "# 4 查询所有记录\n",
    "\n",
    "result = es.search(index=\"vector_index\", body={\"query\":{\"match_all\":{}}})\n",
    "\n",
    "result"
   ]
  },
  {
   "cell_type": "code",
   "execution_count": 8,
   "id": "f5b1bca9",
   "metadata": {},
   "outputs": [
    {
     "name": "stderr",
     "output_type": "stream",
     "text": [
      "/var/folders/f2/s10901_5219dbnccmr_04k3m0000gn/T/ipykernel_64863/1723803535.py:22: DeprecationWarning: The 'body' parameter is deprecated and will be removed in a future version. Instead use individual parameters.\n",
      "  response = es.search(index=\"vector_index\", body=query)\n"
     ]
    }
   ],
   "source": [
    "# 5 根据向量计算相似性\n",
    "\n",
    "temp = \"橘子\"\n",
    "temp_emb = [0.2,0.2,0.4]\n",
    "\n",
    "query = {\n",
    "    \"query\":{\n",
    "        \"script_score\":{\n",
    "            \"query\":{\n",
    "                \"match_all\":{}\n",
    "            },\n",
    "            \"script\":{\n",
    "                \"source\":\"cosineSimilarity(params.queryVector, 'embedding') + 1.0\",\n",
    "                \"params\":{\n",
    "                    \"queryVector\":temp_emb\n",
    "                }\n",
    "            }\n",
    "        }\n",
    "    }\n",
    "}\n",
    "\n",
    "response = es.search(index=\"vector_index\", body=query)"
   ]
  },
  {
   "cell_type": "code",
   "execution_count": 9,
   "id": "40d2649e",
   "metadata": {},
   "outputs": [
    {
     "data": {
      "text/plain": [
       "ObjectApiResponse({'took': 7, 'timed_out': False, '_shards': {'total': 1, 'successful': 1, 'skipped': 0, 'failed': 0}, 'hits': {'total': {'value': 3, 'relation': 'eq'}, 'max_score': 1.9799578, 'hits': [{'_index': 'vector_index', '_id': 'W1L6GIAB8jcpMxT8Cr4k', '_score': 1.9799578, '_source': {'name': '苹果', 'embedding': [0.2, 0.1, 0.4]}}, {'_index': 'vector_index', '_id': 'XVL6GIAB8jcpMxT8Cr4k', '_score': 1.9365858, '_source': {'name': '香蕉', 'embedding': [0.3, 0.1, 0.3]}}, {'_index': 'vector_index', '_id': 'XFL6GIAB8jcpMxT8Cr4k', '_score': 1.9087589, '_source': {'name': '小船', 'embedding': [0.7, 0.2, 0.6]}}]}})"
      ]
     },
     "execution_count": 9,
     "metadata": {},
     "output_type": "execute_result"
    }
   ],
   "source": [
    "# 6 输出结果\n",
    "\n",
    "response"
   ]
  },
  {
   "cell_type": "code",
   "execution_count": 10,
   "id": "557edbc9",
   "metadata": {},
   "outputs": [
    {
     "data": {
      "text/plain": [
       "[{'_index': 'vector_index',\n",
       "  '_id': 'W1L6GIAB8jcpMxT8Cr4k',\n",
       "  '_score': 1.9799578,\n",
       "  '_source': {'name': '苹果', 'embedding': [0.2, 0.1, 0.4]}},\n",
       " {'_index': 'vector_index',\n",
       "  '_id': 'XVL6GIAB8jcpMxT8Cr4k',\n",
       "  '_score': 1.9365858,\n",
       "  '_source': {'name': '香蕉', 'embedding': [0.3, 0.1, 0.3]}},\n",
       " {'_index': 'vector_index',\n",
       "  '_id': 'XFL6GIAB8jcpMxT8Cr4k',\n",
       "  '_score': 1.9087589,\n",
       "  '_source': {'name': '小船', 'embedding': [0.7, 0.2, 0.6]}}]"
      ]
     },
     "execution_count": 10,
     "metadata": {},
     "output_type": "execute_result"
    }
   ],
   "source": [
    "response['hits']['hits']"
   ]
  },
  {
   "cell_type": "code",
   "execution_count": null,
   "id": "018bc283",
   "metadata": {},
   "outputs": [],
   "source": []
  }
 ],
 "metadata": {
  "kernelspec": {
   "display_name": "Python 3 (ipykernel)",
   "language": "python",
   "name": "python3"
  },
  "language_info": {
   "codemirror_mode": {
    "name": "ipython",
    "version": 3
   },
   "file_extension": ".py",
   "mimetype": "text/x-python",
   "name": "python",
   "nbconvert_exporter": "python",
   "pygments_lexer": "ipython3",
   "version": "3.9.7"
  }
 },
 "nbformat": 4,
 "nbformat_minor": 5
}
